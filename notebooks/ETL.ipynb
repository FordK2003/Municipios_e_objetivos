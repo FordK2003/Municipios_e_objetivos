{
 "cells": [
  {
   "cell_type": "code",
   "execution_count": 3,
   "id": "ffdc9f4c-e6bc-4b2b-a345-b4b9945c26ad",
   "metadata": {
    "execution": {
     "iopub.execute_input": "2025-08-27T19:54:14.606813Z",
     "iopub.status.busy": "2025-08-27T19:54:14.606511Z",
     "iopub.status.idle": "2025-08-27T19:54:14.610321Z",
     "shell.execute_reply": "2025-08-27T19:54:14.609515Z",
     "shell.execute_reply.started": "2025-08-27T19:54:14.606789Z"
    }
   },
   "outputs": [],
   "source": [
    "import pandas as pd\n",
    "import numpy as np"
   ]
  },
  {
   "cell_type": "code",
   "execution_count": 4,
   "id": "7fb8a93c-5d40-4e6d-b4c6-79573a18e06e",
   "metadata": {
    "execution": {
     "iopub.execute_input": "2025-08-27T19:56:45.927726Z",
     "iopub.status.busy": "2025-08-27T19:56:45.927434Z",
     "iopub.status.idle": "2025-08-27T19:56:47.874257Z",
     "shell.execute_reply": "2025-08-27T19:56:47.873492Z",
     "shell.execute_reply.started": "2025-08-27T19:56:45.927704Z"
    }
   },
   "outputs": [
    {
     "name": "stdout",
     "output_type": "stream",
     "text": [
      "sagemaker.config INFO - Not applying SDK defaults from location: /etc/xdg/sagemaker/config.yaml\n",
      "sagemaker.config INFO - Not applying SDK defaults from location: /home/sagemaker-user/.config/sagemaker/config.yaml\n"
     ]
    }
   ],
   "source": [
    "import boto3\n",
    "import sagemaker"
   ]
  },
  {
   "cell_type": "code",
   "execution_count": 8,
   "id": "6d1c672d-7403-47da-b154-0c3094cfa6c2",
   "metadata": {
    "execution": {
     "iopub.execute_input": "2025-08-27T19:58:48.114338Z",
     "iopub.status.busy": "2025-08-27T19:58:48.114048Z",
     "iopub.status.idle": "2025-08-27T19:58:48.610262Z",
     "shell.execute_reply": "2025-08-27T19:58:48.609550Z",
     "shell.execute_reply.started": "2025-08-27T19:58:48.114316Z"
    }
   },
   "outputs": [],
   "source": [
    "sessao_sagemaker = sagemaker.Session()\n",
    "bucket = sessao_sagemaker.default_bucket()\n",
    "s3_client = boto3.client('s3')"
   ]
  },
  {
   "cell_type": "code",
   "execution_count": null,
   "id": "269c7187-ebb4-431a-9221-b334b31b156e",
   "metadata": {},
   "outputs": [],
   "source": [
    "try:"
   ]
  }
 ],
 "metadata": {
  "kernelspec": {
   "display_name": "Python 3 (ipykernel)",
   "language": "python",
   "name": "python3"
  },
  "language_info": {
   "codemirror_mode": {
    "name": "ipython",
    "version": 3
   },
   "file_extension": ".py",
   "mimetype": "text/x-python",
   "name": "python",
   "nbconvert_exporter": "python",
   "pygments_lexer": "ipython3",
   "version": "3.12.9"
  }
 },
 "nbformat": 4,
 "nbformat_minor": 5
}
